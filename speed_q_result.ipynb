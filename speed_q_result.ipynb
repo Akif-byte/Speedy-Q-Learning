{
 "cells": [
  {
   "cell_type": "code",
   "execution_count": 1,
   "metadata": {},
   "outputs": [],
   "source": [
    "import matplotlib.pyplot as plt\n",
    "from IPython.display import clear_output\n",
    "import time\n",
    "import gym\n",
    "from gym.envs.toy_text.utils import categorical_sample\n",
    "import random\n",
    "import numpy as np"
   ]
  },
  {
   "cell_type": "markdown",
   "metadata": {},
   "source": [
    "# Section 0: Auxilary Functions"
   ]
  },
  {
   "cell_type": "code",
   "execution_count": 2,
   "metadata": {},
   "outputs": [],
   "source": [
    "def success_rate(environment, qtable, total_trials=1000):\n",
    "    num_success = 0\n",
    "    for _ in range(total_trials):\n",
    "        state, prob = environment.reset()\n",
    "        terminated = False\n",
    "        \n",
    "        while not terminated:\n",
    "            if np.max(qtable[state]) > 0:\n",
    "                action = np.argmax(qtable[state])\n",
    "            else:\n",
    "                action = environment.action_space.sample()\n",
    "            \n",
    "            new_state, reward, terminated, *info = environment.step(action)\n",
    "            state = new_state\n",
    "            num_success +=reward # reward=1 at terminal state\n",
    "    return num_success/total_trials * 100"
   ]
  },
  {
   "cell_type": "code",
   "execution_count": null,
   "metadata": {},
   "outputs": [],
   "source": []
  },
  {
   "cell_type": "markdown",
   "metadata": {},
   "source": [
    "# Section 1: Q-Learning"
   ]
  },
  {
   "cell_type": "code",
   "execution_count": 3,
   "metadata": {},
   "outputs": [],
   "source": [
    "def q_learn(environment, episodes, gamma, store_data_for_graphing=0):\n",
    "    \"\"\"alpha is 1/(1+k), k increments by one when goal\n",
    "    reached i.e.,\"roll on success\".\n",
    "    epsilon Q learning with epsion probability we explore\n",
    "    epsilon decay is 1/epsiodes\n",
    "\n",
    "    Args:\n",
    "        environment (_type_): _description_\n",
    "        episodes (_type_): _description_\n",
    "        gamma (_type_): _description_\n",
    "    \"\"\"\n",
    "    alpha = 0.5\n",
    "    epsilon = 1.0\n",
    "    epsilon_decay = 1/episodes\n",
    "    \n",
    "    qtable = np.zeros((environment.observation_space.n, \n",
    "                       environment.action_space.n))\n",
    "    episode_scores = []\n",
    "    roll_on_success = 1\n",
    "    for episode_num in range(episodes):\n",
    "        print(f\"\\rQ-learn Loop: {episode_num}/{episodes}\", end='', flush=True)\n",
    "        \n",
    "        state, prob = environment.reset()\n",
    "        terminated = False\n",
    "        alpha = 1 / (roll_on_success + 1)\n",
    "        while not terminated:\n",
    "            rnd = np.random.random()\n",
    "            if rnd < epsilon:\n",
    "                action = environment.action_space.sample()\n",
    "            else:\n",
    "                action = np.argmax(qtable[state])\n",
    "            \n",
    "            new_state, reward, terminated, *info = environment.step(action)\n",
    "            qtable[state, action] = (qtable[state, action] +\n",
    "                                    alpha * (reward \n",
    "                                            + gamma *np.max(qtable[new_state])\n",
    "                                            - qtable[state, action]))\n",
    "            state = new_state\n",
    "                \n",
    "        row, col = divmod(new_state, environment.ncol)\n",
    "        state_type = environment.desc[row][col].decode()\n",
    "        if state_type == 'G':\n",
    "            # print(state_type)\n",
    "            roll_on_success += 1\n",
    "        \n",
    "        epsilon = max(epsilon-epsilon_decay, 0)\n",
    "        if store_data_for_graphing ==1:\n",
    "            episode_scores.append(success_rate(environment, qtable))\n",
    "    \n",
    "    return qtable, episode_scores"
   ]
  },
  {
   "cell_type": "markdown",
   "metadata": {},
   "source": [
    "### Section 1.1: test Q learning"
   ]
  },
  {
   "cell_type": "code",
   "execution_count": 4,
   "metadata": {},
   "outputs": [
    {
     "name": "stdout",
     "output_type": "stream",
     "text": [
      "Q-learn Loop: 3/5000"
     ]
    },
    {
     "name": "stderr",
     "output_type": "stream",
     "text": [
      "c:\\Users\\CPS_LabPC_03\\anaconda3.10\\Lib\\site-packages\\gym\\utils\\passive_env_checker.py:233: DeprecationWarning: `np.bool8` is a deprecated alias for `np.bool_`.  (Deprecated NumPy 1.24)\n",
      "  if not isinstance(terminated, (bool, np.bool8)):\n"
     ]
    },
    {
     "name": "stdout",
     "output_type": "stream",
     "text": [
      "Q-learn Loop: 4999/5000"
     ]
    }
   ],
   "source": [
    "environment = gym.make(\"FrozenLake-v1\", render_mode=\"ansi\", is_slippery=True)\n",
    "environment.reset()\n",
    "\n",
    "episodes = 5_000\n",
    "gamma = 0.99\n",
    "\n",
    "qtable, episodes_scores = q_learn(environment, episodes, gamma, store_data_for_graphing=1)\n"
   ]
  },
  {
   "cell_type": "code",
   "execution_count": 5,
   "metadata": {},
   "outputs": [
    {
     "name": "stdout",
     "output_type": "stream",
     "text": [
      "77.7\n"
     ]
    }
   ],
   "source": [
    "print(success_rate(environment, qtable))"
   ]
  },
  {
   "cell_type": "code",
   "execution_count": 6,
   "metadata": {},
   "outputs": [
    {
     "data": {
      "image/png": "[encoded data removed]",
      "text/plain": [
       "<Figure size 640x480 with 1 Axes>"
      ]
     },
     "metadata": {},
     "output_type": "display_data"
    }
   ],
   "source": [
    "plt.plot(episodes_scores)\n",
    "plt.show()"
   ]
  },
  {
   "cell_type": "markdown",
   "metadata": {},
   "source": [
    "# Section 2: Synchronous Speedy Q learning"
   ]
  },
  {
   "cell_type": "code",
   "execution_count": 7,
   "metadata": {},
   "outputs": [],
   "source": [
    "def synchronous_speedy_q_learning(environment, episodes, gamma, \n",
    "                                  store_data_for_graphing=0):\n",
    "    \"\"\"alpha is 1/(episode number + 1)\n",
    "    sycnronous\n",
    "    \n",
    "    Args:\n",
    "        environment (_type_): _description_\n",
    "        episodes (_type_): _description_\n",
    "        gamma (_type_): _description_\n",
    "        store_data_for_graphing (int, optional): _description_. Defaults to 0.\n",
    "    \"\"\"\n",
    "    qtable_prev = np.zeros((environment.observation_space.n,\n",
    "                            environment.action_space.n))\n",
    "    qtable_curr = np.zeros((environment.observation_space.n,\n",
    "                            environment.action_space.n))\n",
    "    T = episodes\n",
    "    episode_scores = []\n",
    "    # Create a NumPy random number generator\n",
    "    np_random = np.random.RandomState()\n",
    "\n",
    "    for k in range(T):\n",
    "        print(f\"\\rIteration: {k+1}/{T}\", end='', flush=True)\n",
    "        TkQk_mins_1 = np.zeros_like(qtable_curr)\n",
    "        TkQk = np.zeros_like(qtable_curr)\n",
    "        for state in range(environment.observation_space.n):\n",
    "            for action in range(environment.action_space.n):\n",
    "                # select state randomly\n",
    "                transitions = environment.P[state][action]\n",
    "                # print(transitions)\n",
    "                index = categorical_sample([t[0] for t in transitions], \n",
    "                                           np_random)\n",
    "\n",
    "                prob, new_state, reward, terminated = transitions[index]\n",
    "                \n",
    "                TkQk_mins_1[state, action] = (reward + gamma * np.max(qtable_prev[new_state]))\n",
    "                TkQk[state, action] = (reward + gamma * np.max(qtable_curr[new_state]))\n",
    "        alpha_k = 1/(k+1)\n",
    "        qtable_prev = np.copy(qtable_curr)\n",
    "        qtable_curr += (alpha_k * (TkQk_mins_1 - qtable_curr) \n",
    "                        + (1-alpha_k) * (TkQk - TkQk_mins_1))\n",
    "        if store_data_for_graphing ==1:\n",
    "            episode_scores.append(success_rate(environment, qtable_curr))\n",
    "    return qtable_curr, episode_scores"
   ]
  },
  {
   "cell_type": "markdown",
   "metadata": {},
   "source": [
    "### Section 2.1: test synchronous speedy Q learning"
   ]
  },
  {
   "cell_type": "code",
   "execution_count": 8,
   "metadata": {},
   "outputs": [
    {
     "name": "stdout",
     "output_type": "stream",
     "text": [
      "Iteration: 149/5000"
     ]
    },
    {
     "ename": "KeyboardInterrupt",
     "evalue": "",
     "output_type": "error",
     "traceback": [
      "\u001b[1;31m---------------------------------------------------------------------------\u001b[0m",
      "\u001b[1;31mKeyboardInterrupt\u001b[0m                         Traceback (most recent call last)",
      "Cell \u001b[1;32mIn[8], line 7\u001b[0m\n\u001b[0;32m      4\u001b[0m sync_speed_episodes \u001b[38;5;241m=\u001b[39m \u001b[38;5;241m5_000\u001b[39m\n\u001b[0;32m      5\u001b[0m sync_speed_gamma \u001b[38;5;241m=\u001b[39m \u001b[38;5;241m0.99\u001b[39m\n\u001b[1;32m----> 7\u001b[0m sync_speed_qtable, sync_speed_episodes_scores \u001b[38;5;241m=\u001b[39m synchronous_speedy_q_learning(sync_speed_environment, \n\u001b[0;32m      8\u001b[0m                                                         sync_speed_episodes, \n\u001b[0;32m      9\u001b[0m                                                         sync_speed_gamma, \n\u001b[0;32m     10\u001b[0m                                                         store_data_for_graphing\u001b[38;5;241m=\u001b[39m\u001b[38;5;241m1\u001b[39m)\n",
      "Cell \u001b[1;32mIn[7], line 42\u001b[0m, in \u001b[0;36msynchronous_speedy_q_learning\u001b[1;34m(environment, episodes, gamma, store_data_for_graphing)\u001b[0m\n\u001b[0;32m     39\u001b[0m     qtable_curr \u001b[38;5;241m+\u001b[39m\u001b[38;5;241m=\u001b[39m (alpha_k \u001b[38;5;241m*\u001b[39m (TkQk_mins_1 \u001b[38;5;241m-\u001b[39m qtable_curr) \n\u001b[0;32m     40\u001b[0m                     \u001b[38;5;241m+\u001b[39m (\u001b[38;5;241m1\u001b[39m\u001b[38;5;241m-\u001b[39malpha_k) \u001b[38;5;241m*\u001b[39m (TkQk \u001b[38;5;241m-\u001b[39m TkQk_mins_1))\n\u001b[0;32m     41\u001b[0m     \u001b[38;5;28;01mif\u001b[39;00m store_data_for_graphing \u001b[38;5;241m==\u001b[39m\u001b[38;5;241m1\u001b[39m:\n\u001b[1;32m---> 42\u001b[0m         episode_scores\u001b[38;5;241m.\u001b[39mappend(success_rate(environment, qtable_curr))\n\u001b[0;32m     43\u001b[0m \u001b[38;5;28;01mreturn\u001b[39;00m qtable_curr, episode_scores\n",
      "Cell \u001b[1;32mIn[2], line 9\u001b[0m, in \u001b[0;36msuccess_rate\u001b[1;34m(environment, qtable, total_trials)\u001b[0m\n\u001b[0;32m      7\u001b[0m \u001b[38;5;28;01mwhile\u001b[39;00m \u001b[38;5;129;01mnot\u001b[39;00m terminated:\n\u001b[0;32m      8\u001b[0m     \u001b[38;5;28;01mif\u001b[39;00m np\u001b[38;5;241m.\u001b[39mmax(qtable[state]) \u001b[38;5;241m>\u001b[39m \u001b[38;5;241m0\u001b[39m:\n\u001b[1;32m----> 9\u001b[0m         action \u001b[38;5;241m=\u001b[39m np\u001b[38;5;241m.\u001b[39margmax(qtable[state])\n\u001b[0;32m     10\u001b[0m     \u001b[38;5;28;01melse\u001b[39;00m:\n\u001b[0;32m     11\u001b[0m         action \u001b[38;5;241m=\u001b[39m environment\u001b[38;5;241m.\u001b[39maction_space\u001b[38;5;241m.\u001b[39msample()\n",
      "File \u001b[1;32m<__array_function__ internals>:200\u001b[0m, in \u001b[0;36margmax\u001b[1;34m(*args, **kwargs)\u001b[0m\n",
      "File \u001b[1;32mc:\\Users\\CPS_LabPC_03\\anaconda3.10\\Lib\\site-packages\\numpy\\core\\fromnumeric.py:1242\u001b[0m, in \u001b[0;36margmax\u001b[1;34m(a, axis, out, keepdims)\u001b[0m\n\u001b[0;32m   1155\u001b[0m \u001b[38;5;250m\u001b[39m\u001b[38;5;124;03m\"\"\"\u001b[39;00m\n\u001b[0;32m   1156\u001b[0m \u001b[38;5;124;03mReturns the indices of the maximum values along an axis.\u001b[39;00m\n\u001b[0;32m   1157\u001b[0m \n\u001b[1;32m   (...)\u001b[0m\n\u001b[0;32m   1239\u001b[0m \u001b[38;5;124;03m(2, 1, 4)\u001b[39;00m\n\u001b[0;32m   1240\u001b[0m \u001b[38;5;124;03m\"\"\"\u001b[39;00m\n\u001b[0;32m   1241\u001b[0m kwds \u001b[38;5;241m=\u001b[39m {\u001b[38;5;124m'\u001b[39m\u001b[38;5;124mkeepdims\u001b[39m\u001b[38;5;124m'\u001b[39m: keepdims} \u001b[38;5;28;01mif\u001b[39;00m keepdims \u001b[38;5;129;01mis\u001b[39;00m \u001b[38;5;129;01mnot\u001b[39;00m np\u001b[38;5;241m.\u001b[39m_NoValue \u001b[38;5;28;01melse\u001b[39;00m {}\n\u001b[1;32m-> 1242\u001b[0m \u001b[38;5;28;01mreturn\u001b[39;00m _wrapfunc(a, \u001b[38;5;124m'\u001b[39m\u001b[38;5;124margmax\u001b[39m\u001b[38;5;124m'\u001b[39m, axis\u001b[38;5;241m=\u001b[39maxis, out\u001b[38;5;241m=\u001b[39mout, \u001b[38;5;241m*\u001b[39m\u001b[38;5;241m*\u001b[39mkwds)\n",
      "File \u001b[1;32mc:\\Users\\CPS_LabPC_03\\anaconda3.10\\Lib\\site-packages\\numpy\\core\\fromnumeric.py:57\u001b[0m, in \u001b[0;36m_wrapfunc\u001b[1;34m(obj, method, *args, **kwds)\u001b[0m\n\u001b[0;32m     54\u001b[0m     \u001b[38;5;28;01mreturn\u001b[39;00m _wrapit(obj, method, \u001b[38;5;241m*\u001b[39margs, \u001b[38;5;241m*\u001b[39m\u001b[38;5;241m*\u001b[39mkwds)\n\u001b[0;32m     56\u001b[0m \u001b[38;5;28;01mtry\u001b[39;00m:\n\u001b[1;32m---> 57\u001b[0m     \u001b[38;5;28;01mreturn\u001b[39;00m bound(\u001b[38;5;241m*\u001b[39margs, \u001b[38;5;241m*\u001b[39m\u001b[38;5;241m*\u001b[39mkwds)\n\u001b[0;32m     58\u001b[0m \u001b[38;5;28;01mexcept\u001b[39;00m \u001b[38;5;167;01mTypeError\u001b[39;00m:\n\u001b[0;32m     59\u001b[0m     \u001b[38;5;66;03m# A TypeError occurs if the object does have such a method in its\u001b[39;00m\n\u001b[0;32m     60\u001b[0m     \u001b[38;5;66;03m# class, but its signature is not identical to that of NumPy's. This\u001b[39;00m\n\u001b[1;32m   (...)\u001b[0m\n\u001b[0;32m     64\u001b[0m     \u001b[38;5;66;03m# Call _wrapit from within the except clause to ensure a potential\u001b[39;00m\n\u001b[0;32m     65\u001b[0m     \u001b[38;5;66;03m# exception has a traceback chain.\u001b[39;00m\n\u001b[0;32m     66\u001b[0m     \u001b[38;5;28;01mreturn\u001b[39;00m _wrapit(obj, method, \u001b[38;5;241m*\u001b[39margs, \u001b[38;5;241m*\u001b[39m\u001b[38;5;241m*\u001b[39mkwds)\n",
      "\u001b[1;31mKeyboardInterrupt\u001b[0m: "
     ]
    }
   ],
   "source": [
    "sync_speed_environment = gym.make(\"FrozenLake-v1\", render_mode=\"ansi\", is_slippery=True)\n",
    "sync_speed_environment.reset()\n",
    "\n",
    "sync_speed_episodes = 5_000\n",
    "sync_speed_gamma = 0.99\n",
    "\n",
    "sync_speed_qtable, sync_speed_episodes_scores = synchronous_speedy_q_learning(sync_speed_environment, \n",
    "                                                        sync_speed_episodes, \n",
    "                                                        sync_speed_gamma, \n",
    "                                                        store_data_for_graphing=1)\n"
   ]
  },
  {
   "cell_type": "code",
   "execution_count": null,
   "metadata": {},
   "outputs": [],
   "source": [
    "plt.plot(episodes_scores, label='Q-learning')\n",
    "plt.plot(sync_speed_episodes_scores, label='synch speedy Q learn')\n",
    "plt.xlabel('episodes')\n",
    "plt.ylabel('average success rate')\n",
    "plt.legend()\n",
    "plt.show()"
   ]
  },
  {
   "cell_type": "markdown",
   "metadata": {},
   "source": [
    "# Section 3: Asynchronous Speedy Q learning"
   ]
  },
  {
   "cell_type": "code",
   "execution_count": null,
   "metadata": {},
   "outputs": [],
   "source": [
    "def asynchronous_speedy_q_learning(environment, episodes, gamma, \n",
    "                                  store_data_for_graphing=0):\n",
    "    \"\"\"alpha is 1/(episode number + 1)\n",
    "    sycnronous\n",
    "    \n",
    "    Args:\n",
    "        environment (_type_): _description_\n",
    "        episodes (_type_): _description_\n",
    "        gamma (_type_): _description_\n",
    "        store_data_for_graphing (int, optional): _description_. Defaults to 0.\n",
    "    \"\"\"\n",
    "    qtable_prev = np.zeros((environment.observation_space.n,\n",
    "                            environment.action_space.n))\n",
    "    qtable_curr = np.zeros((environment.observation_space.n,\n",
    "                            environment.action_space.n))\n",
    "    T = episodes\n",
    "    episode_scores = []\n",
    "    # Create a NumPy random number generator\n",
    "    np_random = np.random.RandomState()\n",
    "\n",
    "    for k in range(T):\n",
    "        print(f\"\\rIteration: {k+1}/{T}\", end='', flush=True)\n",
    "        TkQk_mins_1 = np.zeros_like(qtable_curr)\n",
    "        TkQk = np.zeros_like(qtable_curr)\n",
    "        alpha_k = 1/(k+1)\n",
    "        for state in range(environment.observation_space.n):\n",
    "            for action in range(environment.action_space.n):\n",
    "                # select state randomly\n",
    "                transitions = environment.P[state][action]\n",
    "                # print(transitions)\n",
    "                index = categorical_sample([t[0] for t in transitions], \n",
    "                                           np_random)\n",
    "\n",
    "                prob, new_state, reward, terminated = transitions[index]\n",
    "                \n",
    "                TkQk_mins_1[state, action] = (reward + gamma * np.max(qtable_prev[new_state]))\n",
    "                TkQk[state, action] = (reward + gamma * np.max(qtable_curr[new_state]))\n",
    "                qtable_prev[state, action] = qtable_curr[state, action]\n",
    "                qtable_curr[state, action] +=(alpha_k*(TkQk_mins_1[state, action] \n",
    "                                                       - qtable_curr[state, action])\n",
    "                                              + (1-alpha_k) * (TkQk[state, action]\n",
    "                                                               - TkQk_mins_1[state, action]))\n",
    "                \n",
    "        if store_data_for_graphing ==1:\n",
    "            episode_scores.append(success_rate(environment, qtable_curr))\n",
    "    return qtable_curr, episode_scores"
   ]
  },
  {
   "cell_type": "markdown",
   "metadata": {},
   "source": [
    "### Section 3.1: test Asynchronous Speedy Q learning"
   ]
  },
  {
   "cell_type": "code",
   "execution_count": null,
   "metadata": {},
   "outputs": [],
   "source": [
    "async_speed_environment = gym.make(\"FrozenLake-v1\", render_mode=\"ansi\", is_slippery=True)\n",
    "async_speed_environment.reset()\n",
    "\n",
    "async_speed_episodes = 5_000\n",
    "async_speed_gamma = 0.99\n",
    "\n",
    "async_speed_qtable, async_speed_episodes_scores = asynchronous_speedy_q_learning(async_speed_environment, \n",
    "                                                        async_speed_episodes, \n",
    "                                                        async_speed_gamma, \n",
    "                                                        store_data_for_graphing=1)\n"
   ]
  },
  {
   "cell_type": "code",
   "execution_count": null,
   "metadata": {},
   "outputs": [],
   "source": [
    "plt.plot(episodes_scores, label='Q-learning')\n",
    "plt.plot(sync_speed_episodes_scores, label='synch speedy Q learn')\n",
    "plt.plot(async_speed_episodes_scores, label='synch speedy Q learn')\n",
    "plt.xlabel('episodes')\n",
    "plt.ylabel('average success rate')\n",
    "plt.legend()\n",
    "plt.show()"
   ]
  }
 ],
 "metadata": {
  "kernelspec": {
   "display_name": "base",
   "language": "python",
   "name": "python3"
  },
  "language_info": {
   "codemirror_mode": {
    "name": "ipython",
    "version": 3
   },
   "file_extension": ".py",
   "mimetype": "text/x-python",
   "name": "python",
   "nbconvert_exporter": "python",
   "pygments_lexer": "ipython3",
   "version": "3.11.5"
  }
 },
 "nbformat": 4,
 "nbformat_minor": 2
}
